{
  "nbformat": 4,
  "nbformat_minor": 0,
  "metadata": {
    "colab": {
      "name": "Análise_Exploratória_Jaum.ipynb",
      "provenance": [],
      "collapsed_sections": [],
      "include_colab_link": true
    },
    "kernelspec": {
      "name": "python3",
      "display_name": "Python 3"
    },
    "language_info": {
      "name": "python"
    }
  },
  "cells": [
    {
      "cell_type": "markdown",
      "metadata": {
        "id": "view-in-github",
        "colab_type": "text"
      },
      "source": [
        "<a href=\"https://colab.research.google.com/github/CoronelChefe/Analise-Exploratoria-Ig-para-COVID-19/blob/main/An%C3%A1lise_Explorat%C3%B3ria_Jaum.ipynb\" target=\"_parent\"><img src=\"https://colab.research.google.com/assets/colab-badge.svg\" alt=\"Open In Colab\"/></a>"
      ]
    },
    {
      "cell_type": "markdown",
      "source": [
        "**Pesquisa exploratória dos dados sobre os profissionais de saúde da Paraíba**\n",
        "---------------------------------------------------------\n",
        "\n",
        "\n",
        "TODO:\n",
        "---------------------------------------------------------\n",
        "-> Avaliação dos anticorpos\n",
        "---------------------------------------------------------\n",
        "-> correlaçao por faixa etária\n",
        "---------------------------------------------------------\n",
        "-> Medidas de centralidade\n",
        "---------------------------------------------------------\n",
        "........................................................................................................................................................................................................................................                                                                                                 ........................................................................................................................................................................................................................................                                                                                                 ........................................................................................................................................................................................................................................                                                                                                                                  "
      ],
      "metadata": {
        "id": "9InRd4obXEul"
      }
    },
    {
      "cell_type": "markdown",
      "source": [
        "***Setando***\n",
        "_____________________________________________________________"
      ],
      "metadata": {
        "id": "X22yfA6phA-h"
      }
    },
    {
      "cell_type": "code",
      "source": [
        "#pip install --upgrade mplfinance\n"
      ],
      "metadata": {
        "id": "1GbAV5l6Vq4J"
      },
      "execution_count": 1,
      "outputs": []
    },
    {
      "cell_type": "markdown",
      "source": [
        "Importando bibliotecas"
      ],
      "metadata": {
        "id": "SP3ZJoMKZqum"
      }
    },
    {
      "cell_type": "code",
      "execution_count": 2,
      "metadata": {
        "id": "UGAOODpuXAyU"
      },
      "outputs": [],
      "source": [
        "import pandas as pd\n",
        "import numpy as np\n",
        "import matplotlib.pyplot as plt\n",
        "#import mplfinance as fplt"
      ]
    },
    {
      "cell_type": "markdown",
      "source": [
        "Leitura do arquivo"
      ],
      "metadata": {
        "id": "CYk93Lv6Z1ck"
      }
    },
    {
      "cell_type": "code",
      "source": [
        "dataframe = pd.read_excel(\"/content/Relatorio IgG quantitativo ATUALIZADO.xlsx\")\n",
        "#dataframe"
      ],
      "metadata": {
        "id": "cWkWTmJBZ3bF"
      },
      "execution_count": 3,
      "outputs": []
    },
    {
      "cell_type": "markdown",
      "source": [
        "Contando por sexo"
      ],
      "metadata": {
        "id": "bvobPojOxUwh"
      }
    },
    {
      "cell_type": "code",
      "source": [
        "#REMOVIDO OS PACIENTES\n",
        "#dataframe2['sexo'].value_counts()\n",
        "#MANTENDO PACIENTES\n",
        "dataframe['SEXO'].value_counts()"
      ],
      "metadata": {
        "colab": {
          "base_uri": "https://localhost:8080/"
        },
        "id": "7OLBBOkGxXyI",
        "outputId": "c3ea7950-9293-4a05-afa0-a278eb60c1f0"
      },
      "execution_count": 4,
      "outputs": [
        {
          "output_type": "execute_result",
          "data": {
            "text/plain": [
              "FEMININO     110\n",
              "MASCULINO     32\n",
              "Name: SEXO, dtype: int64"
            ]
          },
          "metadata": {},
          "execution_count": 4
        }
      ]
    },
    {
      "cell_type": "markdown",
      "source": [
        "Análise do DATAFRAME"
      ],
      "metadata": {
        "id": "QIK4CwpcaI90"
      }
    },
    {
      "cell_type": "code",
      "source": [
        "dataframe.head()"
      ],
      "metadata": {
        "id": "achf7i--aLW8",
        "colab": {
          "base_uri": "https://localhost:8080/",
          "height": 206
        },
        "outputId": "a6b024c3-20ef-41ed-901b-1d050c800042"
      },
      "execution_count": 5,
      "outputs": [
        {
          "output_type": "execute_result",
          "data": {
            "text/plain": [
              "                              NOME  IDADE      SEXO DT. COLETA RESULTADO  \\\n",
              "0            ADRIANA DO NASCIMENTO   47.0  FEMININO 2021-04-13  REAGENTE   \n",
              "1     DANIELLE DI CAVALCANTI SOUSA   40.0  FEMININO 2021-04-13  REAGENTE   \n",
              "2  KATIA CRISTINA LOURENCO BEZERRA   66.0  FEMININO 2021-04-13  REAGENTE   \n",
              "3             IVETE MARIA DE SOUZA   58.0  FEMININO 2021-05-31  REAGENTE   \n",
              "4             MYRIAN AZOUBEL SALES   54.0  FEMININO 2021-04-14  REAGENTE   \n",
              "\n",
              "   LEITURA PROFISSIONAL DE SAÚDE / PACIENTE  \n",
              "0    463.6            PROFISSIONAL DE SAÚDE  \n",
              "1   1129.9            PROFISSIONAL DE SAÚDE  \n",
              "2    954.5            PROFISSIONAL DE SAÚDE  \n",
              "3    462.1            PROFISSIONAL DE SAÚDE  \n",
              "4   5850.9            PROFISSIONAL DE SAÚDE  "
            ],
            "text/html": [
              "\n",
              "  <div id=\"df-a460ef18-2f7e-4e96-8f1c-5748aa93b512\">\n",
              "    <div class=\"colab-df-container\">\n",
              "      <div>\n",
              "<style scoped>\n",
              "    .dataframe tbody tr th:only-of-type {\n",
              "        vertical-align: middle;\n",
              "    }\n",
              "\n",
              "    .dataframe tbody tr th {\n",
              "        vertical-align: top;\n",
              "    }\n",
              "\n",
              "    .dataframe thead th {\n",
              "        text-align: right;\n",
              "    }\n",
              "</style>\n",
              "<table border=\"1\" class=\"dataframe\">\n",
              "  <thead>\n",
              "    <tr style=\"text-align: right;\">\n",
              "      <th></th>\n",
              "      <th>NOME</th>\n",
              "      <th>IDADE</th>\n",
              "      <th>SEXO</th>\n",
              "      <th>DT. COLETA</th>\n",
              "      <th>RESULTADO</th>\n",
              "      <th>LEITURA</th>\n",
              "      <th>PROFISSIONAL DE SAÚDE / PACIENTE</th>\n",
              "    </tr>\n",
              "  </thead>\n",
              "  <tbody>\n",
              "    <tr>\n",
              "      <th>0</th>\n",
              "      <td>ADRIANA DO NASCIMENTO</td>\n",
              "      <td>47.0</td>\n",
              "      <td>FEMININO</td>\n",
              "      <td>2021-04-13</td>\n",
              "      <td>REAGENTE</td>\n",
              "      <td>463.6</td>\n",
              "      <td>PROFISSIONAL DE SAÚDE</td>\n",
              "    </tr>\n",
              "    <tr>\n",
              "      <th>1</th>\n",
              "      <td>DANIELLE DI CAVALCANTI SOUSA</td>\n",
              "      <td>40.0</td>\n",
              "      <td>FEMININO</td>\n",
              "      <td>2021-04-13</td>\n",
              "      <td>REAGENTE</td>\n",
              "      <td>1129.9</td>\n",
              "      <td>PROFISSIONAL DE SAÚDE</td>\n",
              "    </tr>\n",
              "    <tr>\n",
              "      <th>2</th>\n",
              "      <td>KATIA CRISTINA LOURENCO BEZERRA</td>\n",
              "      <td>66.0</td>\n",
              "      <td>FEMININO</td>\n",
              "      <td>2021-04-13</td>\n",
              "      <td>REAGENTE</td>\n",
              "      <td>954.5</td>\n",
              "      <td>PROFISSIONAL DE SAÚDE</td>\n",
              "    </tr>\n",
              "    <tr>\n",
              "      <th>3</th>\n",
              "      <td>IVETE MARIA DE SOUZA</td>\n",
              "      <td>58.0</td>\n",
              "      <td>FEMININO</td>\n",
              "      <td>2021-05-31</td>\n",
              "      <td>REAGENTE</td>\n",
              "      <td>462.1</td>\n",
              "      <td>PROFISSIONAL DE SAÚDE</td>\n",
              "    </tr>\n",
              "    <tr>\n",
              "      <th>4</th>\n",
              "      <td>MYRIAN AZOUBEL SALES</td>\n",
              "      <td>54.0</td>\n",
              "      <td>FEMININO</td>\n",
              "      <td>2021-04-14</td>\n",
              "      <td>REAGENTE</td>\n",
              "      <td>5850.9</td>\n",
              "      <td>PROFISSIONAL DE SAÚDE</td>\n",
              "    </tr>\n",
              "  </tbody>\n",
              "</table>\n",
              "</div>\n",
              "      <button class=\"colab-df-convert\" onclick=\"convertToInteractive('df-a460ef18-2f7e-4e96-8f1c-5748aa93b512')\"\n",
              "              title=\"Convert this dataframe to an interactive table.\"\n",
              "              style=\"display:none;\">\n",
              "        \n",
              "  <svg xmlns=\"http://www.w3.org/2000/svg\" height=\"24px\"viewBox=\"0 0 24 24\"\n",
              "       width=\"24px\">\n",
              "    <path d=\"M0 0h24v24H0V0z\" fill=\"none\"/>\n",
              "    <path d=\"M18.56 5.44l.94 2.06.94-2.06 2.06-.94-2.06-.94-.94-2.06-.94 2.06-2.06.94zm-11 1L8.5 8.5l.94-2.06 2.06-.94-2.06-.94L8.5 2.5l-.94 2.06-2.06.94zm10 10l.94 2.06.94-2.06 2.06-.94-2.06-.94-.94-2.06-.94 2.06-2.06.94z\"/><path d=\"M17.41 7.96l-1.37-1.37c-.4-.4-.92-.59-1.43-.59-.52 0-1.04.2-1.43.59L10.3 9.45l-7.72 7.72c-.78.78-.78 2.05 0 2.83L4 21.41c.39.39.9.59 1.41.59.51 0 1.02-.2 1.41-.59l7.78-7.78 2.81-2.81c.8-.78.8-2.07 0-2.86zM5.41 20L4 18.59l7.72-7.72 1.47 1.35L5.41 20z\"/>\n",
              "  </svg>\n",
              "      </button>\n",
              "      \n",
              "  <style>\n",
              "    .colab-df-container {\n",
              "      display:flex;\n",
              "      flex-wrap:wrap;\n",
              "      gap: 12px;\n",
              "    }\n",
              "\n",
              "    .colab-df-convert {\n",
              "      background-color: #E8F0FE;\n",
              "      border: none;\n",
              "      border-radius: 50%;\n",
              "      cursor: pointer;\n",
              "      display: none;\n",
              "      fill: #1967D2;\n",
              "      height: 32px;\n",
              "      padding: 0 0 0 0;\n",
              "      width: 32px;\n",
              "    }\n",
              "\n",
              "    .colab-df-convert:hover {\n",
              "      background-color: #E2EBFA;\n",
              "      box-shadow: 0px 1px 2px rgba(60, 64, 67, 0.3), 0px 1px 3px 1px rgba(60, 64, 67, 0.15);\n",
              "      fill: #174EA6;\n",
              "    }\n",
              "\n",
              "    [theme=dark] .colab-df-convert {\n",
              "      background-color: #3B4455;\n",
              "      fill: #D2E3FC;\n",
              "    }\n",
              "\n",
              "    [theme=dark] .colab-df-convert:hover {\n",
              "      background-color: #434B5C;\n",
              "      box-shadow: 0px 1px 3px 1px rgba(0, 0, 0, 0.15);\n",
              "      filter: drop-shadow(0px 1px 2px rgba(0, 0, 0, 0.3));\n",
              "      fill: #FFFFFF;\n",
              "    }\n",
              "  </style>\n",
              "\n",
              "      <script>\n",
              "        const buttonEl =\n",
              "          document.querySelector('#df-a460ef18-2f7e-4e96-8f1c-5748aa93b512 button.colab-df-convert');\n",
              "        buttonEl.style.display =\n",
              "          google.colab.kernel.accessAllowed ? 'block' : 'none';\n",
              "\n",
              "        async function convertToInteractive(key) {\n",
              "          const element = document.querySelector('#df-a460ef18-2f7e-4e96-8f1c-5748aa93b512');\n",
              "          const dataTable =\n",
              "            await google.colab.kernel.invokeFunction('convertToInteractive',\n",
              "                                                     [key], {});\n",
              "          if (!dataTable) return;\n",
              "\n",
              "          const docLinkHtml = 'Like what you see? Visit the ' +\n",
              "            '<a target=\"_blank\" href=https://colab.research.google.com/notebooks/data_table.ipynb>data table notebook</a>'\n",
              "            + ' to learn more about interactive tables.';\n",
              "          element.innerHTML = '';\n",
              "          dataTable['output_type'] = 'display_data';\n",
              "          await google.colab.output.renderOutput(dataTable, element);\n",
              "          const docLink = document.createElement('div');\n",
              "          docLink.innerHTML = docLinkHtml;\n",
              "          element.appendChild(docLink);\n",
              "        }\n",
              "      </script>\n",
              "    </div>\n",
              "  </div>\n",
              "  "
            ]
          },
          "metadata": {},
          "execution_count": 5
        }
      ]
    },
    {
      "cell_type": "code",
      "source": [
        "print(dataframe.info())"
      ],
      "metadata": {
        "id": "uYJsLeY6afhU",
        "colab": {
          "base_uri": "https://localhost:8080/"
        },
        "outputId": "7731bd98-a2b8-480f-ca26-34cb3a729759"
      },
      "execution_count": 6,
      "outputs": [
        {
          "output_type": "stream",
          "name": "stdout",
          "text": [
            "<class 'pandas.core.frame.DataFrame'>\n",
            "RangeIndex: 142 entries, 0 to 141\n",
            "Data columns (total 7 columns):\n",
            " #   Column                            Non-Null Count  Dtype         \n",
            "---  ------                            --------------  -----         \n",
            " 0   NOME                              142 non-null    object        \n",
            " 1   IDADE                             142 non-null    float64       \n",
            " 2   SEXO                              142 non-null    object        \n",
            " 3   DT. COLETA                        142 non-null    datetime64[ns]\n",
            " 4   RESULTADO                         142 non-null    object        \n",
            " 5   LEITURA                           142 non-null    float64       \n",
            " 6   PROFISSIONAL DE SAÚDE / PACIENTE  142 non-null    object        \n",
            "dtypes: datetime64[ns](1), float64(2), object(4)\n",
            "memory usage: 7.9+ KB\n",
            "None\n"
          ]
        }
      ]
    },
    {
      "cell_type": "code",
      "source": [
        "print(dataframe.tail(14))"
      ],
      "metadata": {
        "id": "X0er0ySzl_JM",
        "colab": {
          "base_uri": "https://localhost:8080/"
        },
        "outputId": "c260633d-1448-4afa-a533-6b25a5ccb773"
      },
      "execution_count": 7,
      "outputs": [
        {
          "output_type": "stream",
          "name": "stdout",
          "text": [
            "                                        NOME  IDADE       SEXO DT. COLETA  \\\n",
            "128             ARYANE NATALIE DE LIMA SILVA   22.0   FEMININO 2021-05-25   \n",
            "129            ANTONELLA FELICIANO DE ARAUJO    0.0   FEMININO 2021-05-06   \n",
            "130         MARIA DE LOURDES SOARES DA SILVA   62.0   FEMININO 2021-05-03   \n",
            "131         MATHEUS VINICIUS SANTOS DA SILVA    5.0  MASCULINO 2021-05-28   \n",
            "132  MARIA DO SOCORRO DE MENDONCA CAVALCANTI   60.0   FEMININO 2021-05-28   \n",
            "133           MARIA ILEANA BERNARDES LACERDA   62.0   FEMININO 2021-05-26   \n",
            "134                     RENE ALBINO DA SILVA   23.0  MASCULINO 2021-05-26   \n",
            "135                      MARIA LOPES FREITAS   56.0   FEMININO 2021-05-26   \n",
            "136         LYLIAN CRISTINY BARBOSA DA SILVA   35.0   FEMININO 2021-05-01   \n",
            "137              IRACEMA MENDES CAMPOS SILVA   56.0   FEMININO 2021-05-10   \n",
            "138               ANDREA BARROS DE MAGALHAES   49.0   FEMININO 2021-05-27   \n",
            "139             CLAUDIA SIMONE FERRAZ VIEIRA   49.0   FEMININO 2021-05-18   \n",
            "140                           JANAINA FREIRE   40.0   FEMININO 2021-05-24   \n",
            "141                  MARCOS ANTONIO DA SILVA   59.0  MASCULINO 2021-05-12   \n",
            "\n",
            "        RESULTADO  LEITURA PROFISSIONAL DE SAÚDE / PACIENTE  \n",
            "128      REAGENTE    801.5            PROFISSIONAL DE SAÚDE  \n",
            "129  NÃO REAGENTE      0.0                         PACIENTE  \n",
            "130      REAGENTE    268.2                         PACIENTE  \n",
            "131  NÃO REAGENTE      6.9                         PACIENTE  \n",
            "132      REAGENTE    852.8            PROFISSIONAL DE SAÚDE  \n",
            "133      REAGENTE    264.7            PROFISSIONAL DE SAÚDE  \n",
            "134      REAGENTE    593.8            PROFISSIONAL DE SAÚDE  \n",
            "135      REAGENTE   4517.8            PROFISSIONAL DE SAÚDE  \n",
            "136      REAGENTE   2185.3            PROFISSIONAL DE SAÚDE  \n",
            "137      REAGENTE    681.4                         PACIENTE  \n",
            "138      REAGENTE    826.9            PROFISSIONAL DE SAÚDE  \n",
            "139      REAGENTE   1464.8            PROFISSIONAL DE SAÚDE  \n",
            "140      REAGENTE    278.1            PROFISSIONAL DE SAÚDE  \n",
            "141  NÃO REAGENTE     10.9                         PACIENTE  \n"
          ]
        }
      ]
    },
    {
      "cell_type": "markdown",
      "source": [
        "***Tratamento do DATAFRAME***\n",
        "_____________________________________________________________"
      ],
      "metadata": {
        "id": "M7hK5ToTeICg"
      }
    },
    {
      "cell_type": "markdown",
      "source": [
        "Renomeando as colunas para que seja possível utilizar o método `.query()` do Pandas para realizar a filtragem dos dados, pois alguns caracteres presentes na língua portuguesa não são suportados pelo método `.query()`."
      ],
      "metadata": {
        "id": "s2u7RA_Gd6WJ"
      }
    },
    {
      "cell_type": "code",
      "source": [
        "dataframe2 = dataframe.rename(columns={\"IDADE\":\"idade\", \"SEXO\":\"sexo\",\n",
        "          \"DT.COLETA\":\"datadecoleta\",\"RESULTADO\":\"resultado\",\"LEITURA\":\"leitura\",\n",
        "          \"PROFISSIONAL DE SAÚDE / PACIENTE\":\"tipo\"})\n"
      ],
      "metadata": {
        "id": "E_nw7fbMeAhg"
      },
      "execution_count": 8,
      "outputs": []
    },
    {
      "cell_type": "markdown",
      "source": [
        "Convertendo o datatype das colunas em numérico"
      ],
      "metadata": {
        "id": "Mz49EgUginRd"
      }
    },
    {
      "cell_type": "code",
      "source": [
        "dataframe2[\"idade\"] = pd.to_numeric(dataframe2[\"idade\"])\n",
        "dataframe2[\"leitura\"] = pd.to_numeric(dataframe2[\"leitura\"])"
      ],
      "metadata": {
        "id": "NDHRPC4UjiiS"
      },
      "execution_count": 9,
      "outputs": []
    },
    {
      "cell_type": "markdown",
      "source": [
        "Filtrando o DATAFRAME"
      ],
      "metadata": {
        "id": "SM7LkpflJXec"
      }
    },
    {
      "cell_type": "code",
      "source": [
        "dataframe2 = dataframe2[dataframe2[\"tipo\"]=='PROFISSIONAL DE SAÚDE']\n",
        "dataframe_Masc = dataframe2[dataframe2[\"sexo\"]=='MASCULINO']\n",
        "dataframe_Fem = dataframe2[dataframe2[\"sexo\"]=='FEMININO']"
      ],
      "metadata": {
        "id": "iz_smhFmJdz_"
      },
      "execution_count": 10,
      "outputs": []
    },
    {
      "cell_type": "markdown",
      "source": [
        "Recorte do DATAFRAME apresentando as leituras, por faixa etária."
      ],
      "metadata": {
        "id": "xMEkwVMf5Gif"
      }
    },
    {
      "cell_type": "code",
      "source": [
        "df1 = dataframe_Masc\n",
        "df1 = df1[df1['idade'].between(20, 30)]"
      ],
      "metadata": {
        "id": "8sutsE4d5cY-"
      },
      "execution_count": 11,
      "outputs": []
    },
    {
      "cell_type": "code",
      "source": [
        "df1"
      ],
      "metadata": {
        "colab": {
          "base_uri": "https://localhost:8080/",
          "height": 175
        },
        "id": "gyeK6JWEI_fi",
        "outputId": "3f1a24e1-6078-4b97-cce5-33c57b45e55d"
      },
      "execution_count": 12,
      "outputs": [
        {
          "output_type": "execute_result",
          "data": {
            "text/plain": [
              "                                NOME  idade       sexo DT. COLETA resultado  \\\n",
              "20   RODRIGO JOHNSON GUERRA BEZERRA    29.0  MASCULINO 2021-04-12  REAGENTE   \n",
              "38            DIEGO RODRIGUES ACIOLI   21.0  MASCULINO 2021-04-12  REAGENTE   \n",
              "47        HELTON SANTANA DE OLIVEIRA   27.0  MASCULINO 2021-04-12  REAGENTE   \n",
              "134             RENE ALBINO DA SILVA   23.0  MASCULINO 2021-05-26  REAGENTE   \n",
              "\n",
              "     leitura                   tipo  \n",
              "20     769.8  PROFISSIONAL DE SAÚDE  \n",
              "38     724.6  PROFISSIONAL DE SAÚDE  \n",
              "47     648.3  PROFISSIONAL DE SAÚDE  \n",
              "134    593.8  PROFISSIONAL DE SAÚDE  "
            ],
            "text/html": [
              "\n",
              "  <div id=\"df-47083afd-95d2-4e1e-af19-8ef0176e28ec\">\n",
              "    <div class=\"colab-df-container\">\n",
              "      <div>\n",
              "<style scoped>\n",
              "    .dataframe tbody tr th:only-of-type {\n",
              "        vertical-align: middle;\n",
              "    }\n",
              "\n",
              "    .dataframe tbody tr th {\n",
              "        vertical-align: top;\n",
              "    }\n",
              "\n",
              "    .dataframe thead th {\n",
              "        text-align: right;\n",
              "    }\n",
              "</style>\n",
              "<table border=\"1\" class=\"dataframe\">\n",
              "  <thead>\n",
              "    <tr style=\"text-align: right;\">\n",
              "      <th></th>\n",
              "      <th>NOME</th>\n",
              "      <th>idade</th>\n",
              "      <th>sexo</th>\n",
              "      <th>DT. COLETA</th>\n",
              "      <th>resultado</th>\n",
              "      <th>leitura</th>\n",
              "      <th>tipo</th>\n",
              "    </tr>\n",
              "  </thead>\n",
              "  <tbody>\n",
              "    <tr>\n",
              "      <th>20</th>\n",
              "      <td>RODRIGO JOHNSON GUERRA BEZERRA</td>\n",
              "      <td>29.0</td>\n",
              "      <td>MASCULINO</td>\n",
              "      <td>2021-04-12</td>\n",
              "      <td>REAGENTE</td>\n",
              "      <td>769.8</td>\n",
              "      <td>PROFISSIONAL DE SAÚDE</td>\n",
              "    </tr>\n",
              "    <tr>\n",
              "      <th>38</th>\n",
              "      <td>DIEGO RODRIGUES ACIOLI</td>\n",
              "      <td>21.0</td>\n",
              "      <td>MASCULINO</td>\n",
              "      <td>2021-04-12</td>\n",
              "      <td>REAGENTE</td>\n",
              "      <td>724.6</td>\n",
              "      <td>PROFISSIONAL DE SAÚDE</td>\n",
              "    </tr>\n",
              "    <tr>\n",
              "      <th>47</th>\n",
              "      <td>HELTON SANTANA DE OLIVEIRA</td>\n",
              "      <td>27.0</td>\n",
              "      <td>MASCULINO</td>\n",
              "      <td>2021-04-12</td>\n",
              "      <td>REAGENTE</td>\n",
              "      <td>648.3</td>\n",
              "      <td>PROFISSIONAL DE SAÚDE</td>\n",
              "    </tr>\n",
              "    <tr>\n",
              "      <th>134</th>\n",
              "      <td>RENE ALBINO DA SILVA</td>\n",
              "      <td>23.0</td>\n",
              "      <td>MASCULINO</td>\n",
              "      <td>2021-05-26</td>\n",
              "      <td>REAGENTE</td>\n",
              "      <td>593.8</td>\n",
              "      <td>PROFISSIONAL DE SAÚDE</td>\n",
              "    </tr>\n",
              "  </tbody>\n",
              "</table>\n",
              "</div>\n",
              "      <button class=\"colab-df-convert\" onclick=\"convertToInteractive('df-47083afd-95d2-4e1e-af19-8ef0176e28ec')\"\n",
              "              title=\"Convert this dataframe to an interactive table.\"\n",
              "              style=\"display:none;\">\n",
              "        \n",
              "  <svg xmlns=\"http://www.w3.org/2000/svg\" height=\"24px\"viewBox=\"0 0 24 24\"\n",
              "       width=\"24px\">\n",
              "    <path d=\"M0 0h24v24H0V0z\" fill=\"none\"/>\n",
              "    <path d=\"M18.56 5.44l.94 2.06.94-2.06 2.06-.94-2.06-.94-.94-2.06-.94 2.06-2.06.94zm-11 1L8.5 8.5l.94-2.06 2.06-.94-2.06-.94L8.5 2.5l-.94 2.06-2.06.94zm10 10l.94 2.06.94-2.06 2.06-.94-2.06-.94-.94-2.06-.94 2.06-2.06.94z\"/><path d=\"M17.41 7.96l-1.37-1.37c-.4-.4-.92-.59-1.43-.59-.52 0-1.04.2-1.43.59L10.3 9.45l-7.72 7.72c-.78.78-.78 2.05 0 2.83L4 21.41c.39.39.9.59 1.41.59.51 0 1.02-.2 1.41-.59l7.78-7.78 2.81-2.81c.8-.78.8-2.07 0-2.86zM5.41 20L4 18.59l7.72-7.72 1.47 1.35L5.41 20z\"/>\n",
              "  </svg>\n",
              "      </button>\n",
              "      \n",
              "  <style>\n",
              "    .colab-df-container {\n",
              "      display:flex;\n",
              "      flex-wrap:wrap;\n",
              "      gap: 12px;\n",
              "    }\n",
              "\n",
              "    .colab-df-convert {\n",
              "      background-color: #E8F0FE;\n",
              "      border: none;\n",
              "      border-radius: 50%;\n",
              "      cursor: pointer;\n",
              "      display: none;\n",
              "      fill: #1967D2;\n",
              "      height: 32px;\n",
              "      padding: 0 0 0 0;\n",
              "      width: 32px;\n",
              "    }\n",
              "\n",
              "    .colab-df-convert:hover {\n",
              "      background-color: #E2EBFA;\n",
              "      box-shadow: 0px 1px 2px rgba(60, 64, 67, 0.3), 0px 1px 3px 1px rgba(60, 64, 67, 0.15);\n",
              "      fill: #174EA6;\n",
              "    }\n",
              "\n",
              "    [theme=dark] .colab-df-convert {\n",
              "      background-color: #3B4455;\n",
              "      fill: #D2E3FC;\n",
              "    }\n",
              "\n",
              "    [theme=dark] .colab-df-convert:hover {\n",
              "      background-color: #434B5C;\n",
              "      box-shadow: 0px 1px 3px 1px rgba(0, 0, 0, 0.15);\n",
              "      filter: drop-shadow(0px 1px 2px rgba(0, 0, 0, 0.3));\n",
              "      fill: #FFFFFF;\n",
              "    }\n",
              "  </style>\n",
              "\n",
              "      <script>\n",
              "        const buttonEl =\n",
              "          document.querySelector('#df-47083afd-95d2-4e1e-af19-8ef0176e28ec button.colab-df-convert');\n",
              "        buttonEl.style.display =\n",
              "          google.colab.kernel.accessAllowed ? 'block' : 'none';\n",
              "\n",
              "        async function convertToInteractive(key) {\n",
              "          const element = document.querySelector('#df-47083afd-95d2-4e1e-af19-8ef0176e28ec');\n",
              "          const dataTable =\n",
              "            await google.colab.kernel.invokeFunction('convertToInteractive',\n",
              "                                                     [key], {});\n",
              "          if (!dataTable) return;\n",
              "\n",
              "          const docLinkHtml = 'Like what you see? Visit the ' +\n",
              "            '<a target=\"_blank\" href=https://colab.research.google.com/notebooks/data_table.ipynb>data table notebook</a>'\n",
              "            + ' to learn more about interactive tables.';\n",
              "          element.innerHTML = '';\n",
              "          dataTable['output_type'] = 'display_data';\n",
              "          await google.colab.output.renderOutput(dataTable, element);\n",
              "          const docLink = document.createElement('div');\n",
              "          docLink.innerHTML = docLinkHtml;\n",
              "          element.appendChild(docLink);\n",
              "        }\n",
              "      </script>\n",
              "    </div>\n",
              "  </div>\n",
              "  "
            ]
          },
          "metadata": {},
          "execution_count": 12
        }
      ]
    },
    {
      "cell_type": "code",
      "source": [
        "df2 = dataframe2\n",
        "df2 = df2[df2['idade'].between(31, 50)]"
      ],
      "metadata": {
        "id": "ZeSjxYKzDgxk"
      },
      "execution_count": 13,
      "outputs": []
    },
    {
      "cell_type": "code",
      "source": [
        "df3 = dataframe2\n",
        "df3 = df3[df3['idade'].between(51, 999)]"
      ],
      "metadata": {
        "id": "QFxhC1kjE-TX"
      },
      "execution_count": 14,
      "outputs": []
    },
    {
      "cell_type": "code",
      "source": [
        "dfmasc = dataframe2\n",
        "dfmasc = dfmasc[dfmasc['sexo']=='MASCULINO']"
      ],
      "metadata": {
        "id": "ayo4XYZG2dJW"
      },
      "execution_count": 15,
      "outputs": []
    },
    {
      "cell_type": "code",
      "source": [
        "dfem = dataframe2\n",
        "dfem = dfem[dfem['sexo']=='FEMININO']"
      ],
      "metadata": {
        "id": "gMLiTiCY2x98"
      },
      "execution_count": 16,
      "outputs": []
    },
    {
      "cell_type": "markdown",
      "source": [
        "Calcula as medidas de centralidade, primeiro quartil, mediana e terceiro quartil"
      ],
      "metadata": {
        "id": "nIxo4rN0dHLF"
      }
    },
    {
      "cell_type": "code",
      "source": [
        "df_vt = np.percentile(df1.leitura, [25, 50, 75])\n",
        "df_tc = np.percentile(df2.leitura, [25, 50, 75])\n",
        "df_cm = np.percentile(df3.leitura, [25, 50, 75])\n",
        "df_masc = np.percentile(dfmasc.leitura, [25, 50, 75])\n",
        "df_fem = np.percentile(dfem.leitura, [25, 50, 75])"
      ],
      "metadata": {
        "id": "SnITzvIddDXX"
      },
      "execution_count": 17,
      "outputs": []
    },
    {
      "cell_type": "code",
      "source": [
        "df_cm\n",
        "#percentis 50++"
      ],
      "metadata": {
        "colab": {
          "base_uri": "https://localhost:8080/"
        },
        "id": "M_C94int3dT4",
        "outputId": "1e6c18a2-7d10-48aa-dfa0-44f59940fa94"
      },
      "execution_count": 18,
      "outputs": [
        {
          "output_type": "execute_result",
          "data": {
            "text/plain": [
              "array([ 506.475,  979.7  , 2121.05 ])"
            ]
          },
          "metadata": {},
          "execution_count": 18
        }
      ]
    },
    {
      "cell_type": "code",
      "source": [
        "df_fem\n",
        "#percentis masculino"
      ],
      "metadata": {
        "colab": {
          "base_uri": "https://localhost:8080/"
        },
        "id": "hWu5HAmf3c6B",
        "outputId": "80efe1e3-1eec-4407-b54b-22c8e3a2e48e"
      },
      "execution_count": 19,
      "outputs": [
        {
          "output_type": "execute_result",
          "data": {
            "text/plain": [
              "array([ 525.7,  936.4, 1585.8])"
            ]
          },
          "metadata": {},
          "execution_count": 19
        }
      ]
    },
    {
      "cell_type": "markdown",
      "source": [
        "## Boxplot utilizando Seaborn"
      ],
      "metadata": {
        "id": "rmLsZHkgjNbD"
      }
    },
    {
      "cell_type": "code",
      "source": [
        "import seaborn as sns # Visualização gráficas\n",
        "\n",
        "# Configurações globais\n",
        "sns.set_style('darkgrid') # background\n",
        "sns.set_context('paper') # Formato artigo\n",
        "sns.set_palette('deep') \n",
        "\n",
        "# Ajusta imagem no aspect/ratio\n",
        "plt.tight_layout()\n",
        "\n",
        "# Parametros e rcParams vai setar configurações globais para os gráficos, ela serve também como mecanismo de controle\n",
        "parametros = {'legend.fontsize': 15,\n",
        "              'figure.figsize': (15,7), # Largura e altura\n",
        "              'axes.labelsize': 'x-large', \n",
        "              'axes.titlesize':'x-large',\n",
        "              'xtick.labelsize':'x-large',\n",
        "              'ytick.labelsize':'x-large'}\n",
        "\n",
        "# Atualiza os padrões que defini acima\n",
        "plt.rcParams.update(parametros)"
      ],
      "metadata": {
        "colab": {
          "base_uri": "https://localhost:8080/",
          "height": 34
        },
        "id": "g8gcdNF_jM67",
        "outputId": "c442e57a-6b24-4fe1-8f97-a1e12c0b8103"
      },
      "execution_count": 20,
      "outputs": [
        {
          "output_type": "display_data",
          "data": {
            "text/plain": [
              "<Figure size 432x288 with 0 Axes>"
            ]
          },
          "metadata": {}
        }
      ]
    },
    {
      "cell_type": "code",
      "source": [
        "# Utilizando agrupamento pré-estabelecido no exemplo\n",
        "\n",
        "dataframe = dataframe.query('IDADE >=20')"
      ],
      "metadata": {
        "id": "OTmn19l-kZDd"
      },
      "execution_count": 21,
      "outputs": []
    },
    {
      "cell_type": "code",
      "source": [
        "dataframe"
      ],
      "metadata": {
        "id": "YFfA7FYzqtXW",
        "colab": {
          "base_uri": "https://localhost:8080/",
          "height": 423
        },
        "outputId": "68b56b0c-9482-4a92-e709-b4cc1002048d"
      },
      "execution_count": 22,
      "outputs": [
        {
          "output_type": "execute_result",
          "data": {
            "text/plain": [
              "                                NOME  IDADE       SEXO DT. COLETA  \\\n",
              "0              ADRIANA DO NASCIMENTO   47.0   FEMININO 2021-04-13   \n",
              "1       DANIELLE DI CAVALCANTI SOUSA   40.0   FEMININO 2021-04-13   \n",
              "2    KATIA CRISTINA LOURENCO BEZERRA   66.0   FEMININO 2021-04-13   \n",
              "3               IVETE MARIA DE SOUZA   58.0   FEMININO 2021-05-31   \n",
              "4               MYRIAN AZOUBEL SALES   54.0   FEMININO 2021-04-14   \n",
              "..                               ...    ...        ...        ...   \n",
              "137      IRACEMA MENDES CAMPOS SILVA   56.0   FEMININO 2021-05-10   \n",
              "138       ANDREA BARROS DE MAGALHAES   49.0   FEMININO 2021-05-27   \n",
              "139     CLAUDIA SIMONE FERRAZ VIEIRA   49.0   FEMININO 2021-05-18   \n",
              "140                   JANAINA FREIRE   40.0   FEMININO 2021-05-24   \n",
              "141          MARCOS ANTONIO DA SILVA   59.0  MASCULINO 2021-05-12   \n",
              "\n",
              "        RESULTADO  LEITURA PROFISSIONAL DE SAÚDE / PACIENTE  \n",
              "0        REAGENTE    463.6            PROFISSIONAL DE SAÚDE  \n",
              "1        REAGENTE   1129.9            PROFISSIONAL DE SAÚDE  \n",
              "2        REAGENTE    954.5            PROFISSIONAL DE SAÚDE  \n",
              "3        REAGENTE    462.1            PROFISSIONAL DE SAÚDE  \n",
              "4        REAGENTE   5850.9            PROFISSIONAL DE SAÚDE  \n",
              "..            ...      ...                              ...  \n",
              "137      REAGENTE    681.4                         PACIENTE  \n",
              "138      REAGENTE    826.9            PROFISSIONAL DE SAÚDE  \n",
              "139      REAGENTE   1464.8            PROFISSIONAL DE SAÚDE  \n",
              "140      REAGENTE    278.1            PROFISSIONAL DE SAÚDE  \n",
              "141  NÃO REAGENTE     10.9                         PACIENTE  \n",
              "\n",
              "[134 rows x 7 columns]"
            ],
            "text/html": [
              "\n",
              "  <div id=\"df-f911a158-12cf-4bab-9bbc-3ee454edf326\">\n",
              "    <div class=\"colab-df-container\">\n",
              "      <div>\n",
              "<style scoped>\n",
              "    .dataframe tbody tr th:only-of-type {\n",
              "        vertical-align: middle;\n",
              "    }\n",
              "\n",
              "    .dataframe tbody tr th {\n",
              "        vertical-align: top;\n",
              "    }\n",
              "\n",
              "    .dataframe thead th {\n",
              "        text-align: right;\n",
              "    }\n",
              "</style>\n",
              "<table border=\"1\" class=\"dataframe\">\n",
              "  <thead>\n",
              "    <tr style=\"text-align: right;\">\n",
              "      <th></th>\n",
              "      <th>NOME</th>\n",
              "      <th>IDADE</th>\n",
              "      <th>SEXO</th>\n",
              "      <th>DT. COLETA</th>\n",
              "      <th>RESULTADO</th>\n",
              "      <th>LEITURA</th>\n",
              "      <th>PROFISSIONAL DE SAÚDE / PACIENTE</th>\n",
              "    </tr>\n",
              "  </thead>\n",
              "  <tbody>\n",
              "    <tr>\n",
              "      <th>0</th>\n",
              "      <td>ADRIANA DO NASCIMENTO</td>\n",
              "      <td>47.0</td>\n",
              "      <td>FEMININO</td>\n",
              "      <td>2021-04-13</td>\n",
              "      <td>REAGENTE</td>\n",
              "      <td>463.6</td>\n",
              "      <td>PROFISSIONAL DE SAÚDE</td>\n",
              "    </tr>\n",
              "    <tr>\n",
              "      <th>1</th>\n",
              "      <td>DANIELLE DI CAVALCANTI SOUSA</td>\n",
              "      <td>40.0</td>\n",
              "      <td>FEMININO</td>\n",
              "      <td>2021-04-13</td>\n",
              "      <td>REAGENTE</td>\n",
              "      <td>1129.9</td>\n",
              "      <td>PROFISSIONAL DE SAÚDE</td>\n",
              "    </tr>\n",
              "    <tr>\n",
              "      <th>2</th>\n",
              "      <td>KATIA CRISTINA LOURENCO BEZERRA</td>\n",
              "      <td>66.0</td>\n",
              "      <td>FEMININO</td>\n",
              "      <td>2021-04-13</td>\n",
              "      <td>REAGENTE</td>\n",
              "      <td>954.5</td>\n",
              "      <td>PROFISSIONAL DE SAÚDE</td>\n",
              "    </tr>\n",
              "    <tr>\n",
              "      <th>3</th>\n",
              "      <td>IVETE MARIA DE SOUZA</td>\n",
              "      <td>58.0</td>\n",
              "      <td>FEMININO</td>\n",
              "      <td>2021-05-31</td>\n",
              "      <td>REAGENTE</td>\n",
              "      <td>462.1</td>\n",
              "      <td>PROFISSIONAL DE SAÚDE</td>\n",
              "    </tr>\n",
              "    <tr>\n",
              "      <th>4</th>\n",
              "      <td>MYRIAN AZOUBEL SALES</td>\n",
              "      <td>54.0</td>\n",
              "      <td>FEMININO</td>\n",
              "      <td>2021-04-14</td>\n",
              "      <td>REAGENTE</td>\n",
              "      <td>5850.9</td>\n",
              "      <td>PROFISSIONAL DE SAÚDE</td>\n",
              "    </tr>\n",
              "    <tr>\n",
              "      <th>...</th>\n",
              "      <td>...</td>\n",
              "      <td>...</td>\n",
              "      <td>...</td>\n",
              "      <td>...</td>\n",
              "      <td>...</td>\n",
              "      <td>...</td>\n",
              "      <td>...</td>\n",
              "    </tr>\n",
              "    <tr>\n",
              "      <th>137</th>\n",
              "      <td>IRACEMA MENDES CAMPOS SILVA</td>\n",
              "      <td>56.0</td>\n",
              "      <td>FEMININO</td>\n",
              "      <td>2021-05-10</td>\n",
              "      <td>REAGENTE</td>\n",
              "      <td>681.4</td>\n",
              "      <td>PACIENTE</td>\n",
              "    </tr>\n",
              "    <tr>\n",
              "      <th>138</th>\n",
              "      <td>ANDREA BARROS DE MAGALHAES</td>\n",
              "      <td>49.0</td>\n",
              "      <td>FEMININO</td>\n",
              "      <td>2021-05-27</td>\n",
              "      <td>REAGENTE</td>\n",
              "      <td>826.9</td>\n",
              "      <td>PROFISSIONAL DE SAÚDE</td>\n",
              "    </tr>\n",
              "    <tr>\n",
              "      <th>139</th>\n",
              "      <td>CLAUDIA SIMONE FERRAZ VIEIRA</td>\n",
              "      <td>49.0</td>\n",
              "      <td>FEMININO</td>\n",
              "      <td>2021-05-18</td>\n",
              "      <td>REAGENTE</td>\n",
              "      <td>1464.8</td>\n",
              "      <td>PROFISSIONAL DE SAÚDE</td>\n",
              "    </tr>\n",
              "    <tr>\n",
              "      <th>140</th>\n",
              "      <td>JANAINA FREIRE</td>\n",
              "      <td>40.0</td>\n",
              "      <td>FEMININO</td>\n",
              "      <td>2021-05-24</td>\n",
              "      <td>REAGENTE</td>\n",
              "      <td>278.1</td>\n",
              "      <td>PROFISSIONAL DE SAÚDE</td>\n",
              "    </tr>\n",
              "    <tr>\n",
              "      <th>141</th>\n",
              "      <td>MARCOS ANTONIO DA SILVA</td>\n",
              "      <td>59.0</td>\n",
              "      <td>MASCULINO</td>\n",
              "      <td>2021-05-12</td>\n",
              "      <td>NÃO REAGENTE</td>\n",
              "      <td>10.9</td>\n",
              "      <td>PACIENTE</td>\n",
              "    </tr>\n",
              "  </tbody>\n",
              "</table>\n",
              "<p>134 rows × 7 columns</p>\n",
              "</div>\n",
              "      <button class=\"colab-df-convert\" onclick=\"convertToInteractive('df-f911a158-12cf-4bab-9bbc-3ee454edf326')\"\n",
              "              title=\"Convert this dataframe to an interactive table.\"\n",
              "              style=\"display:none;\">\n",
              "        \n",
              "  <svg xmlns=\"http://www.w3.org/2000/svg\" height=\"24px\"viewBox=\"0 0 24 24\"\n",
              "       width=\"24px\">\n",
              "    <path d=\"M0 0h24v24H0V0z\" fill=\"none\"/>\n",
              "    <path d=\"M18.56 5.44l.94 2.06.94-2.06 2.06-.94-2.06-.94-.94-2.06-.94 2.06-2.06.94zm-11 1L8.5 8.5l.94-2.06 2.06-.94-2.06-.94L8.5 2.5l-.94 2.06-2.06.94zm10 10l.94 2.06.94-2.06 2.06-.94-2.06-.94-.94-2.06-.94 2.06-2.06.94z\"/><path d=\"M17.41 7.96l-1.37-1.37c-.4-.4-.92-.59-1.43-.59-.52 0-1.04.2-1.43.59L10.3 9.45l-7.72 7.72c-.78.78-.78 2.05 0 2.83L4 21.41c.39.39.9.59 1.41.59.51 0 1.02-.2 1.41-.59l7.78-7.78 2.81-2.81c.8-.78.8-2.07 0-2.86zM5.41 20L4 18.59l7.72-7.72 1.47 1.35L5.41 20z\"/>\n",
              "  </svg>\n",
              "      </button>\n",
              "      \n",
              "  <style>\n",
              "    .colab-df-container {\n",
              "      display:flex;\n",
              "      flex-wrap:wrap;\n",
              "      gap: 12px;\n",
              "    }\n",
              "\n",
              "    .colab-df-convert {\n",
              "      background-color: #E8F0FE;\n",
              "      border: none;\n",
              "      border-radius: 50%;\n",
              "      cursor: pointer;\n",
              "      display: none;\n",
              "      fill: #1967D2;\n",
              "      height: 32px;\n",
              "      padding: 0 0 0 0;\n",
              "      width: 32px;\n",
              "    }\n",
              "\n",
              "    .colab-df-convert:hover {\n",
              "      background-color: #E2EBFA;\n",
              "      box-shadow: 0px 1px 2px rgba(60, 64, 67, 0.3), 0px 1px 3px 1px rgba(60, 64, 67, 0.15);\n",
              "      fill: #174EA6;\n",
              "    }\n",
              "\n",
              "    [theme=dark] .colab-df-convert {\n",
              "      background-color: #3B4455;\n",
              "      fill: #D2E3FC;\n",
              "    }\n",
              "\n",
              "    [theme=dark] .colab-df-convert:hover {\n",
              "      background-color: #434B5C;\n",
              "      box-shadow: 0px 1px 3px 1px rgba(0, 0, 0, 0.15);\n",
              "      filter: drop-shadow(0px 1px 2px rgba(0, 0, 0, 0.3));\n",
              "      fill: #FFFFFF;\n",
              "    }\n",
              "  </style>\n",
              "\n",
              "      <script>\n",
              "        const buttonEl =\n",
              "          document.querySelector('#df-f911a158-12cf-4bab-9bbc-3ee454edf326 button.colab-df-convert');\n",
              "        buttonEl.style.display =\n",
              "          google.colab.kernel.accessAllowed ? 'block' : 'none';\n",
              "\n",
              "        async function convertToInteractive(key) {\n",
              "          const element = document.querySelector('#df-f911a158-12cf-4bab-9bbc-3ee454edf326');\n",
              "          const dataTable =\n",
              "            await google.colab.kernel.invokeFunction('convertToInteractive',\n",
              "                                                     [key], {});\n",
              "          if (!dataTable) return;\n",
              "\n",
              "          const docLinkHtml = 'Like what you see? Visit the ' +\n",
              "            '<a target=\"_blank\" href=https://colab.research.google.com/notebooks/data_table.ipynb>data table notebook</a>'\n",
              "            + ' to learn more about interactive tables.';\n",
              "          element.innerHTML = '';\n",
              "          dataTable['output_type'] = 'display_data';\n",
              "          await google.colab.output.renderOutput(dataTable, element);\n",
              "          const docLink = document.createElement('div');\n",
              "          docLink.innerHTML = docLinkHtml;\n",
              "          element.appendChild(docLink);\n",
              "        }\n",
              "      </script>\n",
              "    </div>\n",
              "  </div>\n",
              "  "
            ]
          },
          "metadata": {},
          "execution_count": 22
        }
      ]
    },
    {
      "cell_type": "code",
      "source": [
        "# Transformação do dataframe pra manipulação\n",
        "\n",
        "# Função pra classificação\n",
        "def classes_idade(idade:int):\n",
        "  if 20 <= idade <= 30:\n",
        "    return '20-30 anos'\n",
        "  elif 31 <= idade <= 50:\n",
        "    return '31-50 anos'\n",
        "  else:\n",
        "    return '>50 anos'\n",
        "\n",
        "\n",
        "dataframe['IDADE_CLASSE'] = dataframe.IDADE.apply(lambda x: classes_idade(x))\n",
        "\n",
        "dataframe.head()"
      ],
      "metadata": {
        "id": "F_0tmqpDj1Bw"
      },
      "execution_count": null,
      "outputs": []
    },
    {
      "cell_type": "markdown",
      "source": [
        "### Idade"
      ],
      "metadata": {
        "id": "QnKniktKp-Fi"
      }
    },
    {
      "cell_type": "code",
      "source": [
        "# Utilizando intervalo interquartílico (IQR) para retirada de outliers dos dados\n",
        "Q1 = dataframe.LEITURA.quantile(0.25)\n",
        "Q3 = dataframe.LEITURA.quantile(0.75)\n",
        "IQR = Q3 - Q1\n",
        "\n",
        "# Filtrando dataframe apenas para os preços dentro do intervalor interquartílico\n",
        "dataframe = dataframe.query('(@Q1 - 1.5 * @IQR) <= LEITURA <= (@Q3 + 1.5 * @IQR)')\n",
        "\n",
        "# Box plot propriamente dito\n",
        "ax = sns.boxplot(x = 'IDADE_CLASSE', \n",
        "                 y = 'LEITURA',\n",
        "                 hue = 'SEXO',\n",
        "                 data = dataframe, \n",
        "                 color = '#d3ce97',\n",
        "                 dodge = True,\n",
        "                 order = ['20-30 anos', '31-50 anos', '>50 anos'],\n",
        "                 width = 0.2)\n",
        "\n",
        "# Retira legenda do eixo x\n",
        "ax.set(xlabel = '')\n",
        "\n",
        "# Ajusta legenda do eixo y\n",
        "ax.set_ylabel( ylabel= 'Level do anticorpo IgG', weight = 'bold')\n",
        "\n",
        "# Limite do ylabel\n",
        "ax.set_ylim(-500,3200)\n",
        "\n",
        "# Adicionando borda preta\n",
        "ax.patch.set_edgecolor('black')  \n",
        "ax.patch.set_linewidth('1')  \n",
        "#plt.savefig('jaum1.pdf', format = 'pdf', dpi = 300, trnasparent = True, bbox_inches = 'tight')"
      ],
      "metadata": {
        "colab": {
          "base_uri": "https://localhost:8080/",
          "height": 434
        },
        "id": "9TpNnxmVk9MX",
        "outputId": "80d228a1-2b7e-41e0-b05f-4831f4fc994c"
      },
      "execution_count": 27,
      "outputs": [
        {
          "output_type": "display_data",
          "data": {
            "text/plain": [
              "<Figure size 1080x504 with 1 Axes>"
            ],
            "image/png": "[encoded data removed]"
          },
          "metadata": {}
        }
      ]
    }
  ]
}